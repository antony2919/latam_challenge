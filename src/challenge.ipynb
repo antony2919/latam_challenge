{
  "nbformat": 4,
  "nbformat_minor": 0,
  "metadata": {
    "colab": {
      "provenance": []
    },
    "kernelspec": {
      "name": "python3",
      "display_name": "Python 3"
    },
    "language_info": {
      "name": "python"
    }
  },
  "cells": [
    {
      "cell_type": "markdown",
      "source": [
        "##**DATA CHALLENGE LATAM**`"
      ],
      "metadata": {
        "id": "cRQNU-x__wdq"
      }
    },
    {
      "cell_type": "markdown",
      "source": [
        "####**QUESTION 1:** Obtener los top 10 fechas donde hay más tweets. Mencionar el usuario (username) que más publicaciones tiene por cada uno de esos días."
      ],
      "metadata": {
        "id": "tQSQWtamAB_3"
      }
    },
    {
      "cell_type": "markdown",
      "source": [
        "**QUESTION 1 - MEMORY:**"
      ],
      "metadata": {
        "id": "KC0MZvAXAaDc"
      }
    },
    {
      "cell_type": "code",
      "source": [
        "import pandas as pd\n",
        "from typing import List, Tuple\n",
        "from datetime import datetime\n",
        "\n",
        "file_path = 'C:\\\\Users\\\\anton\\\\Downloads\\\\tweets\\\\farmers-protest-tweets-2021-2-4.json'\n",
        "resultado = []\n",
        "\n",
        "def q1_memory(file_path: str) -> List[Tuple[datetime.date, str]]:\n",
        "    # Leer el archivo JSON de un dataframe de pandas\n",
        "    df = pd.read_json(file_path, lines=True)\n",
        "\n",
        "    # Convertimos la columna de fechas al formato deseado\n",
        "    df['date'] = pd.to_datetime(df['date'])\n",
        "    df['date'] = df['date'] + pd.Timedelta(hours=-5)# Convertir a la zona horaria deseada gtm - 5 Peru\n",
        "\n",
        "    # Agregar una columna de fecha formateada\n",
        "    df['formatted_date'] = df['date'].dt.date\n",
        "\n",
        "    # Calcular el recuento de publicaciones por fecha y por usuario\n",
        "    pub_por_fecha = df['formatted_date'].value_counts()\n",
        "    df['username'] = df['user'].apply(lambda x: x['username'])# Usamos lambda a cada elemento de la columna 'user' para tomar cada diccionario x y extrae el valor asociado a la clave 'username'.\n",
        "    pub_usuario_fecha = df.groupby(['formatted_date', 'username']).size().unstack(fill_value=0) # pivotear los nombres a columnas y contar ocurrencias, llenar con 0 si no hay ocurrencias\n",
        "\n",
        "    # Obtener las top 10 fechas con más publicaciones\n",
        "    top_fechas = pub_por_fecha.head(10).index.tolist() # Obtenemos los top10 de los indices y lo convertimos en una lista\n",
        "\n",
        "    # Obtener el usuario con más publicaciones para cada una de las top 10 fechas\n",
        "    for fecha in top_fechas:\n",
        "        usuario_mas_publicaciones = pub_usuario_fecha.loc[fecha].idxmax()\n",
        "        resultado.append((fecha, usuario_mas_publicaciones))\n",
        "    return resultado\n",
        "\n",
        "resultado = q1_memory(file_path)\n",
        "print(resultado)\n"
      ],
      "metadata": {
        "id": "cuWIqStd8ul7"
      },
      "execution_count": null,
      "outputs": []
    },
    {
      "cell_type": "markdown",
      "source": [
        "**QUESTION 1 - TIME:**"
      ],
      "metadata": {
        "id": "oGO3gt6gA7Sb"
      }
    },
    {
      "cell_type": "code",
      "source": [
        "from typing import List, Tuple\n",
        "from datetime import timedelta,datetime\n",
        "from collections import defaultdict\n",
        "import json\n",
        "\n",
        "## OBJETIVO 1 ##\n",
        "## Las top 10 fechas donde hay más tweets. Mencionar el usuario (username) que más publicaciones tiene por cada uno de esos días.\n",
        "\n",
        "file_path = 'C:\\\\Users\\\\anton\\\\Downloads\\\\tweets\\\\farmers-protest-tweets-2021-2-4.json'\n",
        "resultado=[]#Lista para concatenar las tuplas (fecha,usuario mas publicaciones)\n",
        "pub_por_fecha = defaultdict(int) # Diccionario para almacenar el recuento de publicaciones por fecha\n",
        "pub_usuario_fecha = defaultdict(lambda: defaultdict(int))# Diccionario para almacenar el recuento de publicaciones por usuario para cada fecha\n",
        "\n",
        "def q1_time(file_path: str) -> List[Tuple[datetime.date, str]]:\n",
        "    #Leer el contenido del fichero JSON\n",
        "    with open(file_path) as contenido:  #type contenido = class '_io.TextIOWrapper'\n",
        "        lineas = contenido.readlines()  #type lineas = class 'list' y contiene \\n de cada linea\n",
        "    lista_tweets = [json.loads(linea.rstrip()) for linea in lineas] #recorremos la lista contenido y quitamos los espacios de la derecha que pueda tener la linea y la incluimos dentro de una lista, con esto evitamos los \\n de cada linea\n",
        "\n",
        "    #Recorremos la lista de tweets\n",
        "    for tweet in lista_tweets:\n",
        "        #Obtener el contenido del diccionario con clave date\n",
        "        fecha_str = tweet.get(\"date\")\n",
        "        #Convertir el GMT al pais que desee analizar o mantener en GMT = 0 como viene por defecto\n",
        "        fecha_hora = datetime.fromisoformat(fecha_str)\n",
        "        nueva_fecha_hora = fecha_hora + timedelta(hours=-5) #en nuestro modificamos al gmt de peru -5,o de acuerdo a lo requerido analizar.\n",
        "        fecha_formateada = nueva_fecha_hora.strftime(\"%Y-%m-%d\") #Formateamos la fecha al formato indicado\n",
        "        pub_por_fecha[fecha_formateada] += 1\n",
        "        pub_usuario_fecha[fecha_formateada][tweet['user']['username']] +=1\n",
        "\n",
        "    # Obtener las top 10 fechas con más publicaciones\n",
        "    top_fechas = sorted(pub_por_fecha.items(), key=lambda x: x[1], reverse=True)[:10]\n",
        "    # Obtener el usuario con más publicaciones para cada una de las top 10 fechas\n",
        "    for fecha, _ in top_fechas:#solo iteramos por el primer valor de la tupla\n",
        "        \"\"\"\n",
        "        pub_usuario_fecha es un dictionario[ fecha ][ dictionario[usuario][conteo_publicaciones] ]\n",
        "        con la funcion max a los valores de pub_usuario_fecha(es un diccionario) tome la primera fecha del top de la iteracion hasta llegar a la decima fecha\n",
        "        en el parametro key se pone en base a que valores realizara la funcion max en este caso, asignamos pub_usuario_fecha[fecha].get a key\n",
        "        para que lo haga en base a los valores de conteo de publicaciones de los usuario\n",
        "        \"\"\"\n",
        "        usuario_mas_publicaciones = max(pub_usuario_fecha[fecha], key=pub_usuario_fecha[fecha].get)\n",
        "        resultado.append(((datetime.strptime(fecha, \"%Y-%m-%d\")).date(), usuario_mas_publicaciones))# cada resultado de la fecha, usuario de mas publiciones se agregan en forma de tupla a la lista resultado\n",
        "\n",
        "    return resultado\n",
        "\n",
        "resultado = q1_time(file_path)\n",
        "print(resultado)"
      ],
      "metadata": {
        "id": "t-fuVgesA2Wk"
      },
      "execution_count": null,
      "outputs": []
    },
    {
      "cell_type": "markdown",
      "source": [
        "####**QUESTION 2:** Obtener los top 10 emojis más usados con su respectivo conteo."
      ],
      "metadata": {
        "id": "LLpy4l0TB6Km"
      }
    },
    {
      "cell_type": "markdown",
      "source": [
        "**QUESTION 2 - MEMORY:**"
      ],
      "metadata": {
        "id": "6XHW7oAECItA"
      }
    },
    {
      "cell_type": "code",
      "source": [
        "from typing import List, Tuple\n",
        "import json\n",
        "from collections import defaultdict\n",
        "import re\n",
        "import pandas as pd\n",
        "\n",
        "## OBJETIVO 2 ##\n",
        "## Los top 10 emojis más usados con su respectivo conteo. Debe incluir las siguientes funciones:\n",
        "\n",
        "file_path = 'C:\\\\Users\\\\anton\\\\Downloads\\\\tweets\\\\farmers-protest-tweets-2021-2-4.json'\n",
        "emojis = defaultdict(int)\n",
        "patron_sep = r\"\\ud8\" #patron para separar el contenido de cada tweet con los inicios del codigo de emoji que inician con ud8...\n",
        "patron_regex = r\"\\\\ud8\\w{2}\\\\ud\\w{3}\" #patron para validar que se trata de un emoji\n",
        "diccionario = {}\n",
        "\n",
        "def q2_memory(file_path: str) -> List[Tuple[str, int]]:\n",
        "    # Leer el archivo JSON y cargar los datos en un dataFrame de Pandas\n",
        "    df = pd.read_json(file_path, lines=True)\n",
        "    # Iterar sobre cada tweet en el dataFrame\n",
        "    for content in df['content']:\n",
        "        # Buscar emojis del mensaje\n",
        "        for parttwo in json.dumps(content).split(patron_sep):#Recorreriendo en las divisiones de patron de separador\n",
        "            if parttwo is not None:\n",
        "                emoji = patron_sep + parttwo[:8]#Agregamos el patron que se perdio al dividir en la sentencia de arriba y solo consideramos los 8 primero caracteres de segunda parte del codigo del emoji\n",
        "                if re.search(patron_regex, emoji):#Validamos que cumpla el patron de un codigo de Emoji\n",
        "                    emojis[emoji] += 1#Agregamos una coincidencia mas al diccionario con clave de codigo del emoji\n",
        "\n",
        "    # Ordenar usuarios por el top 10 recuento de emojis y con items() convierte el diccionario en una lista de tuplas\n",
        "    top_emojis = sorted(emojis.items(), key=lambda x: x[1], reverse=True)[:10]\n",
        "\n",
        "    #Realizamos las lineas de abajo para contener la información en un diccionario y aplicarle json dumps para convertir en cadena para lograr representar los iconos\n",
        "    for i, (emoji, cantidad) in enumerate(top_emojis, 1):#\n",
        "        diccionario[f\"top{i}\"] = emoji\n",
        "        diccionario[f\"vtop{i}\"] = cantidad\n",
        "\n",
        "    diccionario_s = json.dumps(diccionario)#Convertir el dicionario en string\n",
        "    diccionario_s= diccionario_s.replace(\"\\\\\\\\\",\"\\\\\") #Reemplazar el \\\\ a \\ para que pueda representarse el emoji en el print\n",
        "    diccionario_o = json.loads(diccionario_s) #convertir a diccionario python\n",
        "    lista_values = list(diccionario_o.values())#convertir dict_value a una lista para poder iterar\n",
        "\n",
        "    # Convertir una lista  a una lista de tuplas de dos valores\n",
        "    lista_de_tuplas = [(lista_values[i], lista_values[i+1]) for i in range(0, len(lista_values), 2)]\n",
        "    return lista_de_tuplas\n",
        "\n",
        "resultado = q2_memory(file_path)\n",
        "print(resultado)"
      ],
      "metadata": {
        "id": "OmSk9BATCH0z"
      },
      "execution_count": null,
      "outputs": []
    },
    {
      "cell_type": "markdown",
      "source": [
        "**QUESTION 2 - TIME:**"
      ],
      "metadata": {
        "id": "FVUXfQWACJU7"
      }
    },
    {
      "cell_type": "code",
      "source": [
        "from typing import List, Tuple\n",
        "import json\n",
        "from collections import defaultdict\n",
        "import re\n",
        "\n",
        "## OBJETIVO 2 ##\n",
        "## Los top 10 emojis más usados con su respectivo conteo. Debe incluir las siguientes funciones:\n",
        "\n",
        "file_path = 'C:\\\\Users\\\\anton\\\\Downloads\\\\tweets\\\\farmers-protest-tweets-2021-2-4.json'\n",
        "emojis = defaultdict(int)\n",
        "patron_sep = r\"\\ud8\"\n",
        "patron_regex = r\"\\\\ud8\\w{2}\\\\ud\\w{3}\"\n",
        "diccionario = {}\n",
        "\n",
        "def q2_time(file_path: str) -> List[Tuple[str, int]]:\n",
        "    with open(file_path) as contenido:  #type contenido = class '_io.TextIOWrapper'\n",
        "        lineas = contenido.readlines()  #type lineas = class 'list' y contiene \\n de cada linea\n",
        "    lista_tweets = [json.loads(linea.rstrip()) for linea in lineas] #recorremos la lista contenido y quitamos los espacios de la derecha que pueda tener la linea y la incluimos dentro de una lista, con esto evitamos los \\n de cada linea\n",
        "\n",
        "    for tweet in lista_tweets:#Recorriendo los tweet de la lista de tweets\n",
        "        content = tweet.get(\"content\")#\n",
        "        # Buscar emojis del mensaje\n",
        "        for parttwo in json.dumps(content).split(patron_sep):#Recorreriendo en las divisiones de patron de separador\n",
        "            if parttwo is not None:\n",
        "                emoji = patron_sep + parttwo[:8]#Agregamos el patron que se perdio al dividir en la sentencia de arriba y solo consideramos los 8 primero caracteres de segunda parte del codigo del emoji\n",
        "                if re.search(patron_regex, emoji):#Validamos que cumpla el patron de un codigo de Emoji\n",
        "                    emojis[emoji] += 1#Agregamos una coincidencia mas al diccionario con clave de codigo del emoji\n",
        "\n",
        "    # Ordenar usuarios por el top 10 recuento de emojis y con items() convierte el diccionario en una lista de tuplas\n",
        "    top_emojis = sorted(emojis.items(), key=lambda x: x[1], reverse=True)[:10]\n",
        "    #Realizamos las lineas de abajo para contener la información en un diccionario y aplicarle json dumps para convertir en cadena para lograr representar los iconos\n",
        "    for i, (emoji, cantidad) in enumerate(top_emojis, 1):#\n",
        "        diccionario[f\"top{i}\"] = emoji\n",
        "        diccionario[f\"vtop{i}\"] = cantidad\n",
        "\n",
        "    diccionario_s = json.dumps(diccionario)#Convertir el dicionario en string\n",
        "    diccionario_s= diccionario_s.replace(\"\\\\\\\\\",\"\\\\\") #Reemplazar el \\\\ a \\ para que pueda representarse el emoji en el print\n",
        "    diccionario_o = json.loads(diccionario_s) #convertir a diccionario python\n",
        "    lista_values = list(diccionario_o.values())#convertir dict_value a una lista para poder iterar\n",
        "\n",
        "    # Convertir una lista  a una lista de tuplas de dos valores\n",
        "    lista_de_tuplas = [(lista_values[i], lista_values[i+1]) for i in range(0, len(lista_values), 2)]\n",
        "    return lista_de_tuplas\n",
        "\n",
        "resultado = q2_time(file_path)\n",
        "print(resultado)"
      ],
      "metadata": {
        "id": "uuCmJOdB8uof"
      },
      "execution_count": null,
      "outputs": []
    },
    {
      "cell_type": "markdown",
      "source": [
        "####**QUESTION 3:** Obtener los top 10 histórico de usuarios (username) más influyentes en función del conteo de las menciones (@) que registra cada uno  de ellos."
      ],
      "metadata": {
        "id": "WMmY0Ey6CM27"
      }
    },
    {
      "cell_type": "markdown",
      "source": [
        "**QUESTION 3 - MEMORY:**"
      ],
      "metadata": {
        "id": "iEkHVBH4CPGu"
      }
    },
    {
      "cell_type": "code",
      "source": [
        "from typing import List, Tuple\n",
        "import pandas as pd\n",
        "from collections import defaultdict\n",
        "\n",
        "file_path = 'C:\\\\Users\\\\anton\\\\Downloads\\\\tweets\\\\farmers-protest-tweets-2021-2-4.json'\n",
        "# Crear una lista para almacenar las menciones de usuarios\n",
        "menciones = defaultdict(int)\n",
        "\n",
        "def q3_memory(file_path: str) -> List[Tuple[str, int]]:\n",
        "    # Leer el archivo JSON y cargar los datos en un DataFrame de Pandas\n",
        "    df = pd.read_json(file_path, lines=True)\n",
        "    # Iterar sobre cada tweet en el DataFrame\n",
        "    for content in df['content']:\n",
        "        # Buscar menciones de usuarios (@username)\n",
        "        for mencion in content.split():# dividimos la cadena de content por espacios ya que entre mencion y mencion hay un espacio\n",
        "            if mencion.startswith('@'): #validamos que la cadena empieze con @\n",
        "                usuario = mencion[1:] #quitamos el @ del usuario\n",
        "                menciones[usuario] += 1 #Agregamos una coincidencia mas al diccionario con clave de usuario\n",
        "\n",
        "    top_usuarios = sorted(menciones.items(), key=lambda x: x[1], reverse=True)[:10]\n",
        "    return top_usuarios\n",
        "\n",
        "resultado= q3_memory(file_path)\n",
        "print(resultado)"
      ],
      "metadata": {
        "id": "LdQv9e5mCQe4"
      },
      "execution_count": null,
      "outputs": []
    },
    {
      "cell_type": "markdown",
      "source": [
        "**QUESTION 3 - TIME:**"
      ],
      "metadata": {
        "id": "95JHEmTcCP1v"
      }
    },
    {
      "cell_type": "code",
      "source": [
        "from typing import List, Tuple\n",
        "import json\n",
        "from collections import defaultdict\n",
        "\n",
        "## OBJETIVO 3 ##\n",
        "## El top 10 histórico de usuarios (username) más influyentes en función del conteo de las menciones (@) que registra cada uno  de ellos.\n",
        "\n",
        "file_path = 'C:\\\\Users\\\\anton\\\\Downloads\\\\tweets\\\\farmers-protest-tweets-2021-2-4.json'\n",
        "menciones = defaultdict(int)\n",
        "\n",
        "def q3_time(file_path: str) -> List[Tuple[str, int]]:\n",
        "    with open(file_path) as contenido:  #type contenido = class '_io.TextIOWrapper'\n",
        "        lineas = contenido.readlines()  #type lineas = class 'list' y contiene \\n de cada linea\n",
        "    lista_tweets = [json.loads(linea.rstrip()) for linea in lineas] #recorremos la lista contenido y quitamos los espacios de la derecha que pueda tener la linea y la incluimos dentro de una lista, con esto evitamos los \\n de cada linea\n",
        "\n",
        "    for tweet in lista_tweets:#Recorrido de la lista de tweets\n",
        "        content = tweet.get(\"content\")#Extraemos de cada tweet el diccionario con clave content\n",
        "        # Buscar menciones de usuarios (@username)\n",
        "        for mencion in content.split():# dividimos la cadena de content por espacios ya que entre mencion y mencion hay un espacio\n",
        "            if mencion.startswith('@'): #validamos que la cadena empieze con @\n",
        "                usuario = mencion[1:]#quitamos el @ del usuario\n",
        "                menciones[usuario] += 1#Agregamos una coincidencia mas al diccionario con clave de usuario\n",
        "\n",
        "    # Ordenar usuarios por el top 10 recuento de menciones y con items() convierte el diccionario en una lista de tuplas\n",
        "    top_usuarios = sorted(menciones.items(), key=lambda x: x[1], reverse=True)[:10]\n",
        "    return top_usuarios\n",
        "\n",
        "resultado = q3_time(file_path)\n",
        "print(resultado)"
      ],
      "metadata": {
        "id": "LE60B4bLCRDe"
      },
      "execution_count": null,
      "outputs": []
    }
  ]
}